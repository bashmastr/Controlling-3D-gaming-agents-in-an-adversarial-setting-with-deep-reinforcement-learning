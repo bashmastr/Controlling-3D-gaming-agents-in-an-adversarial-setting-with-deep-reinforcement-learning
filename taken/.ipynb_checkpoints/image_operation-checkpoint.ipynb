{
 "cells": [
  {
   "cell_type": "code",
   "execution_count": null,
   "metadata": {},
   "outputs": [],
   "source": [
    "\n",
    "\n"
   ]
  },
  {
   "cell_type": "code",
   "execution_count": 4,
   "metadata": {},
   "outputs": [],
   "source": [
    "from PIL import Image\n",
    "import numpy as np \n",
    "import matplotlib.pyplot as plt\n",
    "\n",
    "\n",
    "\n",
    "class ImageOperation:\n",
    "    def __init__(self,image_file):\n",
    "        # read image to array\n",
    "        self.image = Image.open(image_file)\n",
    "        # image.show()\n",
    "        \n",
    "        # convert image into greyscale\n",
    "        self.image_grey = self.image.convert(\"L\")\n",
    "        # img.show()\n",
    "        \n",
    "        self.dimension = self.image_grey.size\n",
    "        #print(self.dimension)\n",
    "        \n",
    "        \n",
    "        \n",
    "    def round_int(self,x):\n",
    "        if x == float(\"inf\") or x == float(\"-inf\"):\n",
    "            return 0 # or x or return whatever makes sense\n",
    "        return int(round(x))\n",
    "    \n",
    "    \n",
    "    \n",
    "    def negativeImage(self, histogram=False):\n",
    "        x = []\n",
    "        y = []\n",
    "        image_values = np.array(self.image_grey)\n",
    "        #print(image_values.shape)\n",
    "        image_values = image_values.reshape(self.dimension[0]*self.dimension[1])\n",
    "        for i in range(len(image_values)):\n",
    "            image_values[i] = 255 - image_values[i]\n",
    "                        \n",
    "        \n",
    "        if histogram == True:\n",
    "            for i in range(len(image_values)):\n",
    "                count = 0\n",
    "                for j in range(len(image_values)):\n",
    "                    if image_values[i] in x:\n",
    "                        break\n",
    "                    if image_values[i] == image_values[j]:\n",
    "                        count += 1\n",
    "                if image_values[i] not in x:\n",
    "                    x.append(image_values[i])\n",
    "                    y.append(count)\n",
    "            self.imageHistogram(x,y)\n",
    "        \n",
    "        # Creates PIL image\n",
    "        image_values = image_values.reshape(self.dimension[1], self.dimension[0])\n",
    "        img = Image.fromarray(image_values, 'L')\n",
    "        img.show()\n",
    "        \n",
    "    \n",
    "    def thresholdingImage(self, threshold, histogram=False):\n",
    "        x = []\n",
    "        y = []\n",
    "        image_values = np.array(self.image_grey)\n",
    "        count = 0\n",
    "        #print(image_values.shape)\n",
    "        image_values = image_values.reshape(self.dimension[0]*self.dimension[1])\n",
    "        for i in range(len(image_values)):\n",
    "            if image_values[i] > threshold:\n",
    "                image_values[i] = 255\n",
    "                count += 1\n",
    "            else:\n",
    "                image_values[i] = 0\n",
    "                \n",
    "        if histogram == True:\n",
    "            for i in range(len(image_values)):\n",
    "                count = 0\n",
    "                for j in range(len(image_values)):\n",
    "                    if image_values[i] in x:\n",
    "                        break\n",
    "                    if image_values[i] == image_values[j]:\n",
    "                        count += 1\n",
    "                if image_values[i] not in x:\n",
    "                    x.append(image_values[i])\n",
    "                    y.append(count)\n",
    "            self.imageHistogram(x,y)\n",
    "        \n",
    "        image_values = image_values.reshape(self.dimension[1], self.dimension[0])\n",
    "        # Creates PIL image\n",
    "        print(count)\n",
    "        img = Image.fromarray(image_values, 'L')\n",
    "        img.show()\n",
    "        \n",
    "        \n",
    "    def logrithmicImage(self, c=1, histogram=False):\n",
    "        x = []\n",
    "        y = []\n",
    "        image_values = np.array(self.image_grey)\n",
    "        #print(image_values.shape)\n",
    "        \n",
    "        image_values = image_values.reshape(self.dimension[0]*self.dimension[1])\n",
    "        if c == 1:\n",
    "            c = 255 / (np.log(1 + np.max(image_values)))\n",
    "            \n",
    "        for i in range(len(image_values)):\n",
    "            image_values[i] = c * np.log(1+image_values[i])\n",
    "            \n",
    "        if histogram == True:\n",
    "            for i in range(len(image_values)):\n",
    "                count = 0\n",
    "                for j in range(len(image_values)):\n",
    "                    if image_values[i] in x:\n",
    "                        break\n",
    "                    if image_values[i] == image_values[j]:\n",
    "                        count += 1\n",
    "                if image_values[i] not in x:\n",
    "                    x.append(image_values[i])\n",
    "                    y.append(count)\n",
    "            self.imageHistogram(x,y)\n",
    "        \n",
    "        image_values = image_values.reshape(self.dimension[1], self.dimension[0])\n",
    "        # Creates PIL image\n",
    "        img = Image.fromarray(image_values, 'L')\n",
    "        img.show()\n",
    "        \n",
    "        \n",
    "    def inverseLogrithmicImage(self, c=1, histogram=False):\n",
    "        x = []\n",
    "        y = []\n",
    "        image_values = np.array(self.image_grey)\n",
    "        #print(image_values.shape)\n",
    "        image_values = image_values.reshape(self.dimension[0]*self.dimension[1])\n",
    "        if c == 1:\n",
    "            c = 255 / (np.log(1 + np.max(image_values)))\n",
    "        for i in range(len(image_values)):\n",
    "            image_values[i] = c * self.round_int(np.exp(image_values[i]))\n",
    "        \n",
    "        if histogram == True:\n",
    "            for i in range(len(image_values)):\n",
    "                count = 0\n",
    "                for j in range(len(image_values)):\n",
    "                    if image_values[i] in x:\n",
    "                        break\n",
    "                    if image_values[i] == image_values[j]:\n",
    "                        count += 1\n",
    "                if image_values[i] not in x:\n",
    "                    x.append(image_values[i])\n",
    "                    y.append(count)\n",
    "            self.imageHistogram(x,y)\n",
    "        \n",
    "        image_values = image_values.reshape(self.dimension[1], self.dimension[0])\n",
    "        # Creates PIL image\n",
    "        img = Image.fromarray(image_values, 'L')\n",
    "        img.show()\n",
    "    \n",
    "    \n",
    "    \n",
    "    def powerLawImage(self, gamma, c=1, histogram=False):\n",
    "        x = []\n",
    "        y = []\n",
    "        image_values = np.array(self.image_grey)\n",
    "        #print(image_values.shape)\n",
    "        if c == 1:\n",
    "            c = 255 / (np.log(1 + np.max(image_values)))\n",
    "        image_values = image_values.reshape(self.dimension[0]*self.dimension[1])\n",
    "        for i in range(len(image_values)):\n",
    "            image_values[i] = c * (image_values[i] ** gamma)\n",
    "        \n",
    "        if histogram == True:\n",
    "            for i in range(len(image_values)):\n",
    "                count = 0\n",
    "                for j in range(len(image_values)):\n",
    "                    if image_values[i] in x:\n",
    "                        break\n",
    "                    if image_values[i] == image_values[j]:\n",
    "                        count += 1\n",
    "                if image_values[i] not in x:\n",
    "                    x.append(image_values[i])\n",
    "                    y.append(count)\n",
    "            self.imageHistogram(x,y)\n",
    "        \n",
    "        image_values = image_values.reshape(self.dimension[1], self.dimension[0])\n",
    "        # Creates PIL image\n",
    "        img = Image.fromarray(image_values, 'L')\n",
    "        img.show()\n",
    "        \n",
    "        \n",
    "    def contrastStretchingImage(self, a, b, c, d, histogram=False):\n",
    "        x = []\n",
    "        y = []\n",
    "        image_values = np.array(self.image_grey)\n",
    "        #print(image_values.shape)\n",
    "        \n",
    "        image_values = image_values.reshape(self.dimension[0]*self.dimension[1])\n",
    "        for i in range(len(image_values)):\n",
    "            image_values[i] = ((image_values[i]-c) * ( (b - a)/ (d-c)))+a\n",
    "        \n",
    "        \n",
    "        if histogram == True:\n",
    "            for i in range(len(image_values)):\n",
    "                count = 0\n",
    "                for j in range(len(image_values)):\n",
    "                    if image_values[i] in x:\n",
    "                        break\n",
    "                    if image_values[i] == image_values[j]:\n",
    "                        count += 1\n",
    "                if image_values[i] not in x:\n",
    "                    x.append(image_values[i])\n",
    "                    y.append(count)\n",
    "            self.imageHistogram(x,y)\n",
    "        \n",
    "        image_values = image_values.reshape(self.dimension[1], self.dimension[0])\n",
    "        # Creates PIL image\n",
    "        img = Image.fromarray(image_values, 'L')\n",
    "        img.show()\n",
    "        \n",
    "    \n",
    "    def intensitySlicingImage(self, c, d, k, l=1, histogram=False):\n",
    "        x = []\n",
    "        y = []\n",
    "        image_values = np.array(self.image_grey)\n",
    "        #print(image_values.shape)\n",
    "        \n",
    "        image_values = image_values.reshape(self.dimension[0]*self.dimension[1])\n",
    "        for i in range(len(image_values)):\n",
    "            if image_values[i] >= c and image_values[i] <= d:\n",
    "                image_values[i] =  k \n",
    "            if l != 1:\n",
    "                image_values[i] =  l\n",
    "                \n",
    "        if histogram == True:\n",
    "            for i in range(len(image_values)):\n",
    "                count = 0\n",
    "                for j in range(len(image_values)):\n",
    "                    if image_values[i] in x:\n",
    "                        break\n",
    "                    if image_values[i] == image_values[j]:\n",
    "                        count += 1\n",
    "                if image_values[i] not in x:\n",
    "                    x.append(image_values[i])\n",
    "                    y.append(count)\n",
    "            self.imageHistogram(x,y)\n",
    "            \n",
    "        image_values = image_values.reshape(self.dimension[1], self.dimension[0])\n",
    "        # Creates PIL image\n",
    "        img = Image.fromarray(image_values, 'L')\n",
    "        img.show()\n",
    "        \n",
    "    def histogramEqualisation(self, histogram=False):\n",
    "        x = []\n",
    "        y = []\n",
    "        prob_of_y = []\n",
    "        image_values = np.array(self.image_grey)\n",
    "        #print(image_values.shape)\n",
    "        \n",
    "        image_values = image_values.reshape(self.dimension[0]*self.dimension[1])\n",
    "                \n",
    "        \n",
    "        for i in range(len(image_values)):\n",
    "            count = 0\n",
    "            for j in range(len(image_values)):\n",
    "                if image_values[i] in x:\n",
    "                    break\n",
    "                if image_values[i] == image_values[j]:\n",
    "                    count += 1\n",
    "            if image_values[i] not in x:\n",
    "                x.append(image_values[i])\n",
    "                y.append(count)\n",
    "        \n",
    "        for i in range(len(y))\n",
    "            prob_of_y.append(round(255*(y[i]/(self.dimension[0]*self.dimension[1]))))\n",
    "        \n",
    "        if histogram == True:\n",
    "            self.imageHistogram(x,y)\n",
    "            \n",
    "            \n",
    "        image_values = image_values.reshape(self.dimension[1], self.dimension[0])\n",
    "        # Creates PIL image\n",
    "        img = Image.fromarray(image_values, 'L')\n",
    "        img.show()\n",
    "        \n",
    "    def imageHistogram(self, x, y):\n",
    "\n",
    "#         plt.plot(x, y)\n",
    "\n",
    "#         plt.scatter(x, y, label=\"stars\", color=\"green\",\n",
    "#             marker=\"1\", s=30)\n",
    "        plt.bar(x, y, \n",
    "            width=0.25, color=['red', 'green'])\n",
    "        plt.xlabel('Pixel Value')\n",
    "        plt.ylabel('Number of Occurance')\n",
    "\n",
    "        plt.title('Bar chart')\n",
    "\n",
    "        plt.show()\n",
    "\n",
    "    "
   ]
  },
  {
   "cell_type": "code",
   "execution_count": 5,
   "metadata": {},
   "outputs": [],
   "source": [
    "# image_file = '/home/halcyoona/Downloads/IMG_5084.jpg'\n",
    "# image_file = 'cropped-player-one.png'\n",
    "image_file=\"/home/halcyoona/Downloads/aa.jpg\"\n",
    "instance = ImageOperation(image_file)"
   ]
  },
  {
   "cell_type": "code",
   "execution_count": 37,
   "metadata": {},
   "outputs": [
    {
     "data": {
      "image/png": "[encoded data removed]",
      "text/plain": [
       "<Figure size 432x288 with 1 Axes>"
      ]
     },
     "metadata": {
      "needs_background": "light"
     },
     "output_type": "display_data"
    }
   ],
   "source": [
    "instance.negativeImage(histogram=True)"
   ]
  },
  {
   "cell_type": "code",
   "execution_count": 50,
   "metadata": {},
   "outputs": [
    {
     "name": "stdout",
     "output_type": "stream",
     "text": [
      "19362\n"
     ]
    }
   ],
   "source": [
    "instance.thresholdingImage(100)"
   ]
  },
  {
   "cell_type": "code",
   "execution_count": 234,
   "metadata": {},
   "outputs": [],
   "source": [
    "instance.logrithmicImage()"
   ]
  },
  {
   "cell_type": "code",
   "execution_count": 244,
   "metadata": {},
   "outputs": [
    {
     "name": "stderr",
     "output_type": "stream",
     "text": [
      "/home/halcyoona/miniconda3/lib/python3.7/site-packages/ipykernel_launcher.py:79: RuntimeWarning: overflow encountered in exp\n"
     ]
    }
   ],
   "source": [
    "instance.inverseLogrithmicImage()"
   ]
  },
  {
   "cell_type": "code",
   "execution_count": 254,
   "metadata": {},
   "outputs": [],
   "source": [
    "instance.powerLawImage(0.5,1)"
   ]
  },
  {
   "cell_type": "code",
   "execution_count": 29,
   "metadata": {},
   "outputs": [
    {
     "data": {
      "image/png": "[encoded data removed]",
      "text/plain": [
       "<Figure size 432x288 with 1 Axes>"
      ]
     },
     "metadata": {
      "needs_background": "light"
     },
     "output_type": "display_data"
    }
   ],
   "source": [
    "instance.intensitySlicingImage(100, 250, 255, histogram=True)"
   ]
  },
  {
   "cell_type": "code",
   "execution_count": null,
   "metadata": {},
   "outputs": [],
   "source": [
    "23818"
   ]
  },
  {
   "cell_type": "code",
   "execution_count": 49,
   "metadata": {},
   "outputs": [
    {
     "data": {
      "text/plain": [
       "0.812914602401545"
      ]
     },
     "execution_count": 49,
     "metadata": {},
     "output_type": "execute_result"
    }
   ],
   "source": [
    "19362 /23818"
   ]
  },
  {
   "cell_type": "code",
   "execution_count": 13,
   "metadata": {},
   "outputs": [],
   "source": [
    "a = bin(2)"
   ]
  },
  {
   "cell_type": "code",
   "execution_count": 18,
   "metadata": {},
   "outputs": [
    {
     "ename": "ValueError",
     "evalue": "invalid literal for int() with base 10: '0b10'",
     "output_type": "error",
     "traceback": [
      "\u001b[0;31m---------------------------------------------------------------------------\u001b[0m",
      "\u001b[0;31mValueError\u001b[0m                                Traceback (most recent call last)",
      "\u001b[0;32m<ipython-input-18-8b2ab3991dae>\u001b[0m in \u001b[0;36m<module>\u001b[0;34m\u001b[0m\n\u001b[0;32m----> 1\u001b[0;31m \u001b[0mint\u001b[0m\u001b[0;34m(\u001b[0m\u001b[0ma\u001b[0m\u001b[0;34m)\u001b[0m\u001b[0;34m\u001b[0m\u001b[0;34m\u001b[0m\u001b[0m\n\u001b[0m",
      "\u001b[0;31mValueError\u001b[0m: invalid literal for int() with base 10: '0b10'"
     ]
    }
   ],
   "source": [
    "int(a)"
   ]
  },
  {
   "cell_type": "code",
   "execution_count": 15,
   "metadata": {},
   "outputs": [
    {
     "data": {
      "text/plain": [
       "str"
      ]
     },
     "execution_count": 15,
     "metadata": {},
     "output_type": "execute_result"
    }
   ],
   "source": [
    "type(a)"
   ]
  },
  {
   "cell_type": "code",
   "execution_count": 19,
   "metadata": {},
   "outputs": [],
   "source": [
    "b = a.split(\"b\")"
   ]
  },
  {
   "cell_type": "code",
   "execution_count": 22,
   "metadata": {},
   "outputs": [],
   "source": [
    "c = \"000000\"+b[1]"
   ]
  },
  {
   "cell_type": "code",
   "execution_count": 28,
   "metadata": {},
   "outputs": [
    {
     "data": {
      "text/plain": [
       "0"
      ]
     },
     "execution_count": 28,
     "metadata": {},
     "output_type": "execute_result"
    }
   ],
   "source": [
    "int(c[1])"
   ]
  },
  {
   "cell_type": "code",
   "execution_count": 27,
   "metadata": {},
   "outputs": [
    {
     "data": {
      "text/plain": [
       "False"
      ]
     },
     "execution_count": 27,
     "metadata": {},
     "output_type": "execute_result"
    }
   ],
   "source": [
    "'1000'> '1001'"
   ]
  },
  {
   "cell_type": "code",
   "execution_count": null,
   "metadata": {},
   "outputs": [],
   "source": []
  }
 ],
 "metadata": {
  "kernelspec": {
   "display_name": "Python 3",
   "language": "python",
   "name": "python3"
  },
  "language_info": {
   "codemirror_mode": {
    "name": "ipython",
    "version": 3
   },
   "file_extension": ".py",
   "mimetype": "text/x-python",
   "name": "python",
   "nbconvert_exporter": "python",
   "pygments_lexer": "ipython3",
   "version": "3.7.7"
  }
 },
 "nbformat": 4,
 "nbformat_minor": 4
}
