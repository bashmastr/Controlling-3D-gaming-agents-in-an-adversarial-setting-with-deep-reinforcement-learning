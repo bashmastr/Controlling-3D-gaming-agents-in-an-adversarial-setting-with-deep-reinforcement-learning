{
 "cells": [
  {
   "cell_type": "code",
   "execution_count": 2,
   "metadata": {},
   "outputs": [],
   "source": [
    "from imutils.perspective import four_point_transform\n",
    "from imutils import contours\n",
    "import imutils\n",
    "import cv2"
   ]
  },
  {
   "cell_type": "code",
   "execution_count": 3,
   "metadata": {},
   "outputs": [],
   "source": []
  },
  {
   "cell_type": "code",
   "execution_count": 3,
   "metadata": {},
   "outputs": [],
   "source": [
    "# cv2.imshow('window', edged)"
   ]
  },
  {
   "cell_type": "code",
   "execution_count": 5,
   "metadata": {},
   "outputs": [],
   "source": [
    "# find contours in the edge map, then sort them by their\n",
    "# size in descending order\n",
    "cnts = cv2.findContours(edged.copy(), cv2.RETR_EXTERNAL,\n",
    "    cv2.CHAIN_APPROX_SIMPLE)\n",
    "cnts = imutils.grab_contours(cnts)\n",
    "cnts = sorted(cnts, key=cv2.contourArea, reverse=True)\n",
    "displayCnt = None\n",
    "# loop over the contours\n",
    "for c in cnts:\n",
    "    # approximate the contour\n",
    "    peri = cv2.arcLength(c, True)\n",
    "    approx = cv2.approxPolyDP(c, 0.02 * peri, True)\n",
    "    # if the contour has four vertices, then we have found\n",
    "    # the thermostat display\n",
    "    if len(approx) == 4:\n",
    "        displayCnt = approx\n",
    "        break"
   ]
  },
  {
   "cell_type": "code",
   "execution_count": 6,
   "metadata": {},
   "outputs": [],
   "source": [
    "# extract the thermostat display, apply a perspective transform\n",
    "# to it\n",
    "warped = four_point_transform(gray, displayCnt.reshape(4, 2))\n",
    "output = four_point_transform(image, displayCnt.reshape(4, 2))"
   ]
  },
  {
   "cell_type": "code",
   "execution_count": 7,
   "metadata": {},
   "outputs": [],
   "source": [
    "cv2.imshow('window', warped)"
   ]
  },
  {
   "cell_type": "code",
   "execution_count": 9,
   "metadata": {},
   "outputs": [
    {
     "name": "stdout",
     "output_type": "stream",
     "text": [
      "start Time:  1597992570.3473635\n",
      "End Time:  1597992572.3472278\n"
     ]
    }
   ],
   "source": [
    "import pyautogui\n",
    "from PIL import Image\n",
    "import time\n",
    "def get_text(image):\n",
    "    return pytesseract.image_to_string(image)\n",
    "\n",
    "t_end = time.time() + 2 * 1\n",
    "print(\"start Time: \",time.time())\n",
    "print(\"End Time: \", t_end)\n",
    "while time.time() < t_end:\n",
    "    answer2 = pyautogui.screenshot('tekken-7-4k.png')\n",
    "# img = Image.open('tekken-7-4k.png')\n",
    "# answer2 = get_text(img)"
   ]
  },
  {
   "cell_type": "code",
   "execution_count": 6,
   "metadata": {},
   "outputs": [
    {
     "name": "stdout",
     "output_type": "stream",
     "text": [
      "Requirement already satisfied: Image in /home/halcyoona/miniconda3/lib/python3.7/site-packages (1.5.32)\r\n",
      "Requirement already satisfied: django in /home/halcyoona/miniconda3/lib/python3.7/site-packages (from Image) (3.1)\r\n",
      "Requirement already satisfied: pillow in /home/halcyoona/miniconda3/lib/python3.7/site-packages (from Image) (7.2.0)\r\n",
      "Requirement already satisfied: six in /home/halcyoona/miniconda3/lib/python3.7/site-packages (from Image) (1.14.0)\r\n",
      "Requirement already satisfied: pytz in /home/halcyoona/miniconda3/lib/python3.7/site-packages (from django->Image) (2020.1)\r\n",
      "Requirement already satisfied: sqlparse>=0.2.2 in /home/halcyoona/miniconda3/lib/python3.7/site-packages (from django->Image) (0.3.1)\r\n",
      "Requirement already satisfied: asgiref~=3.2.10 in /home/halcyoona/miniconda3/lib/python3.7/site-packages (from django->Image) (3.2.10)\r\n"
     ]
    }
   ],
   "source": [
    "!pip install Image"
   ]
  },
  {
   "cell_type": "code",
   "execution_count": 8,
   "metadata": {
    "scrolled": true
   },
   "outputs": [
    {
     "name": "stdout",
     "output_type": "stream",
     "text": [
      "start Time:  1598083323.0335593\n",
      "End Time:  1598083325.0334828\n"
     ]
    },
    {
     "ename": "AttributeError",
     "evalue": "'MSS' object has no attribute 'width'",
     "output_type": "error",
     "traceback": [
      "\u001b[0;31m---------------------------------------------------------------------------\u001b[0m",
      "\u001b[0;31mAttributeError\u001b[0m                            Traceback (most recent call last)",
      "\u001b[0;32m<ipython-input-8-88b8a1689949>\u001b[0m in \u001b[0;36m<module>\u001b[0;34m\u001b[0m\n\u001b[1;32m     18\u001b[0m \u001b[0;32mwhile\u001b[0m \u001b[0mtime\u001b[0m\u001b[0;34m.\u001b[0m\u001b[0mtime\u001b[0m\u001b[0;34m(\u001b[0m\u001b[0;34m)\u001b[0m \u001b[0;34m<\u001b[0m \u001b[0mt_end\u001b[0m\u001b[0;34m:\u001b[0m\u001b[0;34m\u001b[0m\u001b[0;34m\u001b[0m\u001b[0m\n\u001b[1;32m     19\u001b[0m     \u001b[0msct\u001b[0m\u001b[0;34m.\u001b[0m\u001b[0mgrab\u001b[0m\u001b[0;34m(\u001b[0m\u001b[0mmon\u001b[0m\u001b[0;34m)\u001b[0m\u001b[0;34m\u001b[0m\u001b[0;34m\u001b[0m\u001b[0m\n\u001b[0;32m---> 20\u001b[0;31m     \u001b[0mframe\u001b[0m \u001b[0;34m=\u001b[0m \u001b[0mImage\u001b[0m\u001b[0;34m.\u001b[0m\u001b[0mfrombytes\u001b[0m\u001b[0;34m(\u001b[0m \u001b[0;34m'RGB'\u001b[0m\u001b[0;34m,\u001b[0m \u001b[0;34m(\u001b[0m\u001b[0msct\u001b[0m\u001b[0;34m.\u001b[0m\u001b[0mwidth\u001b[0m\u001b[0;34m,\u001b[0m \u001b[0msct\u001b[0m\u001b[0;34m.\u001b[0m\u001b[0mheight\u001b[0m\u001b[0;34m)\u001b[0m\u001b[0;34m,\u001b[0m \u001b[0msct\u001b[0m\u001b[0;34m.\u001b[0m\u001b[0mimage\u001b[0m \u001b[0;34m)\u001b[0m\u001b[0;34m\u001b[0m\u001b[0;34m\u001b[0m\u001b[0m\n\u001b[0m\u001b[1;32m     21\u001b[0m     \u001b[0mframe\u001b[0m \u001b[0;34m=\u001b[0m \u001b[0mnp\u001b[0m\u001b[0;34m.\u001b[0m\u001b[0marray\u001b[0m\u001b[0;34m(\u001b[0m\u001b[0mframe\u001b[0m\u001b[0;34m)\u001b[0m\u001b[0;34m\u001b[0m\u001b[0;34m\u001b[0m\u001b[0m\n\u001b[1;32m     22\u001b[0m     \u001b[0;31m# image = image[ ::2, ::2, : ] # can be used to downgrade the input\u001b[0m\u001b[0;34m\u001b[0m\u001b[0;34m\u001b[0m\u001b[0;34m\u001b[0m\u001b[0m\n",
      "\u001b[0;31mAttributeError\u001b[0m: 'MSS' object has no attribute 'width'"
     ]
    }
   ],
   "source": [
    "import numpy as np\n",
    "import cv2\n",
    "import glob\n",
    "from moviepy.editor import VideoFileClip\n",
    "from mss import mss\n",
    "from PIL import Image\n",
    "import time\n",
    "\n",
    "color = (0, 255, 0) # bounding box color.\n",
    "\n",
    "# This defines the area on the screen.\n",
    "mon = {'top' : 10, 'left' : 10, 'width' : 100, 'height' : 800}\n",
    "sct = mss()\n",
    "previous_time = 0\n",
    "t_end = time.time() + 2 * 1\n",
    "print(\"start Time: \",time.time())\n",
    "print(\"End Time: \", t_end)\n",
    "while time.time() < t_end:\n",
    "    sct.grab(mon)\n",
    "    frame = Image.frombytes( 'RGB', (sct.width, sct.height), sct.image )\n",
    "    frame = np.array(frame)\n",
    "    # image = image[ ::2, ::2, : ] # can be used to downgrade the input\n",
    "    frame = cv2.cvtColor(frame, cv2.COLOR_BGR2RGB)\n",
    "    cv2.imshow ('frame', frame)\n",
    "    if cv2.waitKey ( 1 ) & 0xff == ord( 'q' ) :\n",
    "        cv2.destroyAllWindows()\n",
    "    txt1 = 'fps: %.1f' % ( 1./( time.time() - previous_time ))\n",
    "    previous_time = time.time()\n",
    "    print (txt1)"
   ]
  },
  {
   "cell_type": "code",
   "execution_count": null,
   "metadata": {},
   "outputs": [],
   "source": []
  },
  {
   "cell_type": "code",
   "execution_count": null,
   "metadata": {},
   "outputs": [],
   "source": []
  },
  {
   "cell_type": "code",
   "execution_count": 7,
   "metadata": {},
   "outputs": [
    {
     "ename": "ModuleNotFoundError",
     "evalue": "No module named 'grabscreen'",
     "output_type": "error",
     "traceback": [
      "\u001b[0;31m---------------------------------------------------------------------------\u001b[0m",
      "\u001b[0;31mModuleNotFoundError\u001b[0m                       Traceback (most recent call last)",
      "\u001b[0;32m<ipython-input-7-8efaabd070e2>\u001b[0m in \u001b[0;36m<module>\u001b[0;34m\u001b[0m\n\u001b[1;32m      4\u001b[0m \u001b[0;32mimport\u001b[0m \u001b[0mnumpy\u001b[0m\u001b[0;34m\u001b[0m\u001b[0;34m\u001b[0m\u001b[0m\n\u001b[1;32m      5\u001b[0m \u001b[0;32mfrom\u001b[0m \u001b[0mPIL\u001b[0m \u001b[0;32mimport\u001b[0m \u001b[0mImageGrab\u001b[0m\u001b[0;34m\u001b[0m\u001b[0;34m\u001b[0m\u001b[0m\n\u001b[0;32m----> 6\u001b[0;31m \u001b[0;32mfrom\u001b[0m \u001b[0mgrabscreen\u001b[0m \u001b[0;32mimport\u001b[0m \u001b[0mgrab_screen\u001b[0m\u001b[0;34m\u001b[0m\u001b[0;34m\u001b[0m\u001b[0m\n\u001b[0m\u001b[1;32m      7\u001b[0m \u001b[0;34m\u001b[0m\u001b[0m\n\u001b[1;32m      8\u001b[0m \u001b[0;31m# title of our window\u001b[0m\u001b[0;34m\u001b[0m\u001b[0;34m\u001b[0m\u001b[0;34m\u001b[0m\u001b[0m\n",
      "\u001b[0;31mModuleNotFoundError\u001b[0m: No module named 'grabscreen'"
     ]
    }
   ],
   "source": [
    "import time\n",
    "import cv2\n",
    "import mss\n",
    "import numpy\n",
    "from PIL import ImageGrab\n",
    "from grabscreen import grab_screen\n",
    "\n",
    "# title of our window\n",
    "title = \"FPS benchmark\"\n",
    "# set start time to current time\n",
    "start_time = time.time()\n",
    "# displays the frame rate every 2 second\n",
    "display_time = 2\n",
    "# Set primarry FPS to 0\n",
    "fps = 0\n",
    "# Load mss library as sct\n",
    "sct = mss.mss()\n",
    "# Set monitor size to capture to MSS\n",
    "monitor = {\"top\": 40, \"left\": 0, \"width\": 800, \"height\": 640}\n",
    "# Set monitor size to capture\n",
    "mon = (0, 40, 800, 640)"
   ]
  },
  {
   "cell_type": "code",
   "execution_count": null,
   "metadata": {},
   "outputs": [],
   "source": [
    "\n"
   ]
  },
  {
   "cell_type": "code",
   "execution_count": 2,
   "metadata": {},
   "outputs": [],
   "source": [
    "def screen_recordPIL():\n",
    "    # set variables as global, that we could change them\n",
    "    global fps, start_time\n",
    "    # begin our loop\n",
    "    while True:\n",
    "        # Get raw pixels from the screen, save it to a Numpy array\n",
    "        img = numpy.asarray(ImageGrab.grab(bbox=mon))\n",
    "        # Display the picture\n",
    "        cv2.imshow(title, cv2.cvtColor(img, cv2.COLOR_BGR2RGB))\n",
    "        # add one to fps\n",
    "        fps+=1\n",
    "        # calculate time difference\n",
    "        TIME = time.time() - start_time\n",
    "        # check if our 2 seconds passed\n",
    "        if (TIME) >= display_time :\n",
    "            print(\"FPS: \", fps / (TIME))\n",
    "            # set fps again to zero\n",
    "            fps = 0\n",
    "            # set start time to current time again\n",
    "            start_time = time.time()\n",
    "        # Press \"q\" to quit\n",
    "        if cv2.waitKey(25) & 0xFF == ord(\"q\"):\n",
    "            cv2.destroyAllWindows()\n",
    "            break"
   ]
  },
  {
   "cell_type": "code",
   "execution_count": 3,
   "metadata": {},
   "outputs": [],
   "source": [
    "def screen_grab():\n",
    "    global fps, start_time\n",
    "    while True:\n",
    "        # Get raw pixels from the screen \n",
    "        img = grab_screen(region=mon)\n",
    "        # Display the picture\n",
    "        cv2.imshow(title, cv2.cvtColor(img, cv2.COLOR_BGR2RGB))\n",
    "        fps+=1\n",
    "        TIME = time.time() - start_time\n",
    "        if (TIME) >= display_time :\n",
    "            print(\"FPS: \", fps / (TIME))\n",
    "            fps = 0\n",
    "            start_time = time.time()\n",
    "        # Press \"q\" to quit\n",
    "        if cv2.waitKey(25) & 0xFF == ord(\"q\"):\n",
    "            cv2.destroyAllWindows()\n",
    "            break"
   ]
  },
  {
   "cell_type": "code",
   "execution_count": 4,
   "metadata": {},
   "outputs": [],
   "source": [
    "def screen_recordMSS():\n",
    "    global fps, start_time\n",
    "    while True:\n",
    "        # Get raw pixels from the screen, save it to a Numpy array\n",
    "        img = numpy.array(sct.grab(monitor))\n",
    "        # to ger real color we do this:\n",
    "        img = cv2.cvtColor(img, cv2.COLOR_BGR2RGB)\n",
    "        cv2.imshow(title, cv2.cvtColor(img, cv2.COLOR_BGR2RGB))\n",
    "        fps+=1\n",
    "        TIME = time.time() - start_time\n",
    "        if (TIME) >= display_time :\n",
    "            print(\"FPS: \", fps / (TIME))\n",
    "            fps = 0\n",
    "            start_time = time.time()\n",
    "        # Press \"q\" to quit\n",
    "        if cv2.waitKey(25) & 0xFF == ord(\"q\"):\n",
    "            cv2.destroyAllWindows()\n",
    "            break"
   ]
  },
  {
   "cell_type": "code",
   "execution_count": null,
   "metadata": {},
   "outputs": [
    {
     "name": "stdout",
     "output_type": "stream",
     "text": [
      "FPS:  0.013036473789097737\n",
      "FPS:  24.976032597470212\n",
      "FPS:  24.466921882501907\n",
      "FPS:  25.687609495793183\n",
      "FPS:  23.67619477254451\n",
      "FPS:  22.8775100130171\n",
      "FPS:  23.135403857334623\n",
      "FPS:  23.934367863658935\n"
     ]
    }
   ],
   "source": [
    "screen_recordMSS()"
   ]
  },
  {
   "cell_type": "code",
   "execution_count": null,
   "metadata": {},
   "outputs": [
    {
     "name": "stdout",
     "output_type": "stream",
     "text": [
      "FPS:  0.03413214143051043\n",
      "FPS:  15.733967423032142\n",
      "FPS:  17.14164542264014\n",
      "FPS:  21.171934516877908\n",
      "FPS:  21.524305752776506\n",
      "FPS:  21.008825322267015\n",
      "FPS:  18.57335958110771\n",
      "FPS:  19.72316217339701\n",
      "FPS:  20.853787954030476\n",
      "FPS:  21.23300195006129\n",
      "FPS:  19.493511928879567\n",
      "FPS:  19.984488605819642\n",
      "FPS:  20.997997474911223\n",
      "FPS:  18.988430753995935\n",
      "FPS:  19.62514892380073\n",
      "FPS:  20.14591580223443\n",
      "FPS:  19.22632661394304\n",
      "FPS:  19.12084972589544\n",
      "FPS:  17.271630740733247\n",
      "FPS:  18.805338057885358\n",
      "FPS:  19.228690645127617\n",
      "FPS:  17.66571303720629\n",
      "FPS:  19.864898642012424\n",
      "FPS:  19.12330414062722\n",
      "FPS:  19.62786046323354\n",
      "FPS:  19.338074955587928\n",
      "FPS:  19.16934814104222\n",
      "FPS:  19.797117849567677\n",
      "FPS:  19.136662455875015\n",
      "FPS:  18.789356299109794\n",
      "FPS:  19.039714002474334\n",
      "FPS:  19.554726303792872\n",
      "FPS:  19.893737010008756\n",
      "FPS:  18.425536618601416\n",
      "FPS:  18.00024195300382\n",
      "FPS:  18.30834162004421\n",
      "FPS:  18.813400206095274\n",
      "FPS:  19.257170176023298\n",
      "FPS:  19.61952618816938\n",
      "FPS:  20.20455034111227\n"
     ]
    }
   ],
   "source": [
    "screen_recordPI()"
   ]
  },
  {
   "cell_type": "code",
   "execution_count": 6,
   "metadata": {},
   "outputs": [
    {
     "ename": "NameError",
     "evalue": "name 'grab_screen' is not defined",
     "output_type": "error",
     "traceback": [
      "\u001b[0;31m---------------------------------------------------------------------------\u001b[0m",
      "\u001b[0;31mNameError\u001b[0m                                 Traceback (most recent call last)",
      "\u001b[0;32m<ipython-input-6-50f8dbb1e570>\u001b[0m in \u001b[0;36m<module>\u001b[0;34m\u001b[0m\n\u001b[0;32m----> 1\u001b[0;31m \u001b[0mscreen_grab\u001b[0m\u001b[0;34m(\u001b[0m\u001b[0;34m)\u001b[0m\u001b[0;34m\u001b[0m\u001b[0;34m\u001b[0m\u001b[0m\n\u001b[0m",
      "\u001b[0;32m<ipython-input-3-05e83933b0c3>\u001b[0m in \u001b[0;36mscreen_grab\u001b[0;34m()\u001b[0m\n\u001b[1;32m      3\u001b[0m     \u001b[0;32mwhile\u001b[0m \u001b[0;32mTrue\u001b[0m\u001b[0;34m:\u001b[0m\u001b[0;34m\u001b[0m\u001b[0;34m\u001b[0m\u001b[0m\n\u001b[1;32m      4\u001b[0m         \u001b[0;31m# Get raw pixels from the screen\u001b[0m\u001b[0;34m\u001b[0m\u001b[0;34m\u001b[0m\u001b[0;34m\u001b[0m\u001b[0m\n\u001b[0;32m----> 5\u001b[0;31m         \u001b[0mimg\u001b[0m \u001b[0;34m=\u001b[0m \u001b[0mgrab_screen\u001b[0m\u001b[0;34m(\u001b[0m\u001b[0mregion\u001b[0m\u001b[0;34m=\u001b[0m\u001b[0mmon\u001b[0m\u001b[0;34m)\u001b[0m\u001b[0;34m\u001b[0m\u001b[0;34m\u001b[0m\u001b[0m\n\u001b[0m\u001b[1;32m      6\u001b[0m         \u001b[0;31m# Display the picture\u001b[0m\u001b[0;34m\u001b[0m\u001b[0;34m\u001b[0m\u001b[0;34m\u001b[0m\u001b[0m\n\u001b[1;32m      7\u001b[0m         \u001b[0mcv2\u001b[0m\u001b[0;34m.\u001b[0m\u001b[0mimshow\u001b[0m\u001b[0;34m(\u001b[0m\u001b[0mtitle\u001b[0m\u001b[0;34m,\u001b[0m \u001b[0mcv2\u001b[0m\u001b[0;34m.\u001b[0m\u001b[0mcvtColor\u001b[0m\u001b[0;34m(\u001b[0m\u001b[0mimg\u001b[0m\u001b[0;34m,\u001b[0m \u001b[0mcv2\u001b[0m\u001b[0;34m.\u001b[0m\u001b[0mCOLOR_BGR2RGB\u001b[0m\u001b[0;34m)\u001b[0m\u001b[0;34m)\u001b[0m\u001b[0;34m\u001b[0m\u001b[0;34m\u001b[0m\u001b[0m\n",
      "\u001b[0;31mNameError\u001b[0m: name 'grab_screen' is not defined"
     ]
    }
   ],
   "source": [
    "screen_grab()"
   ]
  },
  {
   "cell_type": "code",
   "execution_count": null,
   "metadata": {},
   "outputs": [],
   "source": [
    "import time\n",
    "import cv2\n",
    "import mss\n",
    "import numpy\n",
    "from PIL import ImageGrab\n",
    "import pyautogui\n",
    "\n",
    "\n",
    "\n",
    "\n",
    "# img = Image.open('tekken-7-4k.png')\n",
    "# answer2 = get_text(img)\n",
    "\n",
    "\n",
    "class ScreenCapture:\n",
    "    def __init__(self):\n",
    "        # title of our window\n",
    "        self.title = \"FPS benchmark\"\n",
    "        \n",
    "        # set start time to current time\n",
    "        self.start_time = time.time()\n",
    "        \n",
    "        #set end time accordingly\n",
    "        self.end_time = start_time + 10\n",
    "        \n",
    "        # displays the frame rate every 2 second\n",
    "        self.display_time = 2\n",
    "        \n",
    "        # Set primarry FPS to 0\n",
    "        self.fps = 0\n",
    "        \n",
    "        # Load mss library as sct\n",
    "        self.sct = mss.mss()\n",
    "        \n",
    "        # Set monitor size to capture to MSS\n",
    "        self.monitor = {\"top\": 40, \"left\": 0, \"width\": 800, \"height\": 640}\n",
    "        \n",
    "        # Set monitor size to capture\n",
    "        mon = (0, 40, 800, 640)\n",
    "    \n",
    "    def screen_recordMSS(self):\n",
    "        #begin our loop\n",
    "        while self.start_time < self.end_time:\n",
    "            \n",
    "            # Get raw pixels from the screen, save it to a Numpy array\n",
    "            img = numpy.array(self.sct.grab(self.monitor))\n",
    "            \n",
    "            # to ger real color we do this:\n",
    "            img = cv2.cvtColor(img, cv2.COLOR_BGR2RGB)\n",
    "            # cv2.imshow(title, img)\n",
    "            \n",
    "            # add one to fps\n",
    "            self.fps+=1\n",
    "            # calculate time difference\n",
    "            TIME = time.time() - start_time\n",
    "            \n",
    "            # this If statement is to check FPS when display time is passed            \n",
    "            if (TIME) >= self.display_time :\n",
    "                print(\"FPS: \", fps / (TIME))\n",
    "                self.fps = 0\n",
    "                self.start_time = time.time()\n",
    "                \n",
    "            \n",
    "    \n",
    "    \n",
    "    def screen_recordPIL(self):\n",
    "        \n",
    "        # begin our loop\n",
    "        while self.start_time < self.end_time:\n",
    "            \n",
    "            # Get raw pixels from the screen, save it to a Numpy array\n",
    "            img = numpy.asarray(ImageGrab.grab(bbox=self.mon))\n",
    "            \n",
    "            # to ger real color we do this:\n",
    "            img = cv2.cvtColor(img, cv2.COLOR_BGR2RGB)\n",
    "            \n",
    "            # Display the picture\n",
    "            # cv2.imshow(title, img)\n",
    "            \n",
    "            # add one to fps\n",
    "            self.fps+=1\n",
    "            # calculate time difference\n",
    "            TIME = time.time() - start_time\n",
    "            \n",
    "            # this If statement is to check FPS when display time is passed\n",
    "            if (TIME) >= display_time :\n",
    "                print(\"FPS: \", fps / (TIME))\n",
    "                # set fps again to zero\n",
    "                self.fps = 0\n",
    "                # set start time to current time again\n",
    "                self.start_time = time.time()\n",
    "        \n",
    "                \n",
    "    def screen_recordPyautogui(self):\n",
    "        while self.start_time < self.end_time:\n",
    "            img = pyautogui.screenshot('tekken-7-4k.png')\n",
    "            \n",
    "            # Display the picture\n",
    "            # cv2.imshow(title, img)\n",
    "            \n",
    "            # add one to fps\n",
    "            self.fps+=1\n",
    "            # calculate time difference\n",
    "            TIME = time.time() - start_time\n",
    "            \n",
    "            # this If statement is to check FPS when display time is passed\n",
    "            if (TIME) >= display_time :\n",
    "                print(\"FPS: \", fps / (TIME))\n",
    "                # set fps again to zero\n",
    "                self.fps = 0\n",
    "                # set start time to current time again\n",
    "                self.start_time = time.time()\n",
    "                "
   ]
  },
  {
   "cell_type": "code",
   "execution_count": null,
   "metadata": {},
   "outputs": [],
   "source": [
    "screen = ScreenCapture()"
   ]
  },
  {
   "cell_type": "code",
   "execution_count": 17,
   "metadata": {},
   "outputs": [
    {
     "ename": "AttributeError",
     "evalue": "'ScreenCapture' object has no attribute 'start_time'",
     "output_type": "error",
     "traceback": [
      "\u001b[0;31m---------------------------------------------------------------------------\u001b[0m",
      "\u001b[0;31mAttributeError\u001b[0m                            Traceback (most recent call last)",
      "\u001b[0;32m<ipython-input-17-38cf6e28479c>\u001b[0m in \u001b[0;36m<module>\u001b[0;34m\u001b[0m\n\u001b[0;32m----> 1\u001b[0;31m \u001b[0mscreen\u001b[0m\u001b[0;34m.\u001b[0m\u001b[0mscreen_recordPyautogui\u001b[0m\u001b[0;34m(\u001b[0m\u001b[0;34m)\u001b[0m\u001b[0;34m\u001b[0m\u001b[0;34m\u001b[0m\u001b[0m\n\u001b[0m",
      "\u001b[0;32m<ipython-input-15-3ccf9bbc3e87>\u001b[0m in \u001b[0;36mscreen_recordPyautogui\u001b[0;34m(self)\u001b[0m\n\u001b[1;32m     80\u001b[0m \u001b[0;34m\u001b[0m\u001b[0m\n\u001b[1;32m     81\u001b[0m     \u001b[0;32mdef\u001b[0m \u001b[0mscreen_recordPyautogui\u001b[0m\u001b[0;34m(\u001b[0m\u001b[0mself\u001b[0m\u001b[0;34m)\u001b[0m\u001b[0;34m:\u001b[0m\u001b[0;34m\u001b[0m\u001b[0;34m\u001b[0m\u001b[0m\n\u001b[0;32m---> 82\u001b[0;31m         \u001b[0;32mwhile\u001b[0m \u001b[0mself\u001b[0m\u001b[0;34m.\u001b[0m\u001b[0mstart_time\u001b[0m \u001b[0;34m>=\u001b[0m \u001b[0mself\u001b[0m\u001b[0;34m.\u001b[0m\u001b[0mend_time\u001b[0m\u001b[0;34m:\u001b[0m\u001b[0;34m\u001b[0m\u001b[0;34m\u001b[0m\u001b[0m\n\u001b[0m\u001b[1;32m     83\u001b[0m             \u001b[0manswer2\u001b[0m \u001b[0;34m=\u001b[0m \u001b[0mpyautogui\u001b[0m\u001b[0;34m.\u001b[0m\u001b[0mscreenshot\u001b[0m\u001b[0;34m(\u001b[0m\u001b[0;34m'tekken-7-4k.png'\u001b[0m\u001b[0;34m)\u001b[0m\u001b[0;34m\u001b[0m\u001b[0;34m\u001b[0m\u001b[0m\n\u001b[1;32m     84\u001b[0m             \u001b[0mself\u001b[0m\u001b[0;34m.\u001b[0m\u001b[0mfps\u001b[0m\u001b[0;34m+=\u001b[0m\u001b[0;36m1\u001b[0m\u001b[0;34m\u001b[0m\u001b[0;34m\u001b[0m\u001b[0m\n",
      "\u001b[0;31mAttributeError\u001b[0m: 'ScreenCapture' object has no attribute 'start_time'"
     ]
    }
   ],
   "source": [
    "screen.screen_recordPyautogui()"
   ]
  },
  {
   "cell_type": "code",
   "execution_count": null,
   "metadata": {},
   "outputs": [],
   "source": []
  }
 ],
 "metadata": {
  "kernelspec": {
   "display_name": "Python 3",
   "language": "python",
   "name": "python3"
  },
  "language_info": {
   "codemirror_mode": {
    "name": "ipython",
    "version": 3
   },
   "file_extension": ".py",
   "mimetype": "text/x-python",
   "name": "python",
   "nbconvert_exporter": "python",
   "pygments_lexer": "ipython3",
   "version": "3.7.7"
  }
 },
 "nbformat": 4,
 "nbformat_minor": 4
}
